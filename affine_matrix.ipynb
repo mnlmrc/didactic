{
 "cells": [
  {
   "cell_type": "code",
   "id": "initial_id",
   "metadata": {
    "collapsed": true,
    "ExecuteTime": {
     "end_time": "2025-02-19T22:22:00.501469Z",
     "start_time": "2025-02-19T22:22:00.237412Z"
    }
   },
   "source": [
    "import numpy as np\n",
    "import nibabel as nb"
   ],
   "outputs": [],
   "execution_count": 1
  },
  {
   "metadata": {},
   "cell_type": "markdown",
   "source": [
    "### **Affine Matrix in fMRI Data**\n",
    "\n",
    "An **affine matrix** is a **4×4 transformation matrix** used in fMRI data to map voxel coordinates (discrete indices in the image) to real-world scanner coordinates (typically in millimeters). It encodes **scaling, rotation, shearing, and translation** to ensure that fMRI images are correctly aligned in space.\n",
    "\n",
    "#### **Affine Transformation Formula**\n",
    "\n",
    "For an affine matrix \\( A \\):\n",
    "\n",
    "\\[\n",
    "A =\n",
    "\\begin{bmatrix}\n",
    "a_{11} & a_{12} & a_{13} & t_x \\\\\n",
    "a_{21} & a_{22} & a_{23} & t_y \\\\\n",
    "a_{31} & a_{32} & a_{33} & t_z \\\\\n",
    "0 & 0 & 0 & 1\n",
    "\\end{bmatrix}\n",
    "\\]\n",
    "\n",
    "A voxel coordinate **(i, j, k, 1)** is transformed into scanner space **(x', y', z', 1)** as:\n",
    "\n",
    "\\[\n",
    "\\begin{bmatrix} x' \\\\ y' \\\\ z' \\\\ 1 \\end{bmatrix} =\n",
    "A \\cdot\n",
    "\\begin{bmatrix} i \\\\ j \\\\ k \\\\ 1 \\end{bmatrix}\n",
    "\\]\n",
    "\n",
    "#### **Key Components**\n",
    "- **Scaling**: The diagonal elements (\\( a_{11}, a_{22}, a_{33} \\)) determine voxel size.\n",
    "- **Rotation**: Non-diagonal elements adjust orientation in space.\n",
    "- **Shearing**: Off-diagonal elements skew the image.\n",
    "- **Translation**: The last column (\\( t_x, t_y, t_z \\)) shifts the image in space.\n",
    "\n",
    "#### **Practical Applications in fMRI**\n",
    "- **Realigning scans**: Ensures fMRI images match anatomical images.\n",
    "- **Registering images**: Aligns fMRI scans across different sessions or subjects.\n",
    "- **Transforming to MNI space**: Standardizes fMRI data to a common coordinate system.\n"
   ],
   "id": "a2a2dbea57ea3ff8"
  },
  {
   "metadata": {
    "ExecuteTime": {
     "end_time": "2025-02-19T22:31:04.787096Z",
     "start_time": "2025-02-19T22:31:04.768789Z"
    }
   },
   "cell_type": "code",
   "source": [
    "# load a nifti image\n",
    "img = nb.load(\"/cifs/diedrichsen/data/SensoriMotorPrediction/smp2/BIDS/subj102/func/sub-102_task-task_run-01_bold.nii.gz\")\n",
    "\n",
    "# get affine matrix\n",
    "A = img.affine\n",
    "\n",
    "print(A)"
   ],
   "id": "bc3e2897361d0f7c",
   "outputs": [
    {
     "name": "stdout",
     "output_type": "stream",
     "text": [
      "[[ -1.79310346   0.          -0.         106.17919922]\n",
      " [ -0.           1.66603088  -0.66554415 -86.3452301 ]\n",
      " [  0.           0.66299415   1.67243862 -83.02190399]\n",
      " [  0.           0.           0.           1.        ]]\n"
     ]
    }
   ],
   "execution_count": 3
  },
  {
   "metadata": {},
   "cell_type": "code",
   "outputs": [],
   "execution_count": null,
   "source": "",
   "id": "688236103284c586"
  }
 ],
 "metadata": {
  "kernelspec": {
   "display_name": "Python 3",
   "language": "python",
   "name": "python3"
  },
  "language_info": {
   "codemirror_mode": {
    "name": "ipython",
    "version": 2
   },
   "file_extension": ".py",
   "mimetype": "text/x-python",
   "name": "python",
   "nbconvert_exporter": "python",
   "pygments_lexer": "ipython2",
   "version": "2.7.6"
  }
 },
 "nbformat": 4,
 "nbformat_minor": 5
}
