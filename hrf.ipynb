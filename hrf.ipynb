{
 "cells": [
  {
   "cell_type": "code",
   "id": "initial_id",
   "metadata": {
    "collapsed": true,
    "ExecuteTime": {
     "end_time": "2025-02-28T14:25:31.946417Z",
     "start_time": "2025-02-28T14:25:30.954721Z"
    }
   },
   "source": [
    "from hrf import plot_hrf\n",
    "import ipywidgets as widgets\n",
    "from ipywidgets import interactive\n"
   ],
   "outputs": [],
   "execution_count": 1
  },
  {
   "metadata": {
    "ExecuteTime": {
     "end_time": "2025-02-28T14:25:33.174042Z",
     "start_time": "2025-02-28T14:25:33.042478Z"
    }
   },
   "cell_type": "code",
   "source": [
    "# Interactive widget\n",
    "interactive_plot = interactive(\n",
    "    plot_hrf,\n",
    "    delay_response=widgets.FloatSlider(min=4, max=8, step=0.5, value=6, description='Peak Delay (s)') ,\n",
    "    delay_undershoot=widgets.FloatSlider(min=10, max=20, step=1, value=16, description='Undershoot Delay (s)'),\n",
    "    dispersion_response=widgets.FloatSlider(min=0.5, max=2, step=0.1, value=1, description='Peak Dispersion'),\n",
    "    dispersion_undershoot=widgets.FloatSlider(min=0.5, max=2, step=0.1, value=1, description='Undershoot Dispersion'),\n",
    "    ratio=widgets.FloatSlider(min=2, max=10, step=1, value=6, description='Ratio Response/Undershoot')\n",
    ")\n",
    "\n",
    "interactive_plot"
   ],
   "id": "9f54874ccda26b90",
   "outputs": [
    {
     "data": {
      "text/plain": [
       "interactive(children=(FloatSlider(value=6.0, description='Peak Delay (s)', max=8.0, min=4.0, step=0.5), FloatS…"
      ],
      "application/vnd.jupyter.widget-view+json": {
       "version_major": 2,
       "version_minor": 0,
       "model_id": "d664c42bba634676b01fa4962988858f"
      }
     },
     "execution_count": 2,
     "metadata": {},
     "output_type": "execute_result"
    }
   ],
   "execution_count": 2
  },
  {
   "metadata": {},
   "cell_type": "code",
   "outputs": [],
   "execution_count": null,
   "source": "",
   "id": "c0803f29b482ca91"
  }
 ],
 "metadata": {
  "kernelspec": {
   "display_name": "Python 3",
   "language": "python",
   "name": "python3"
  },
  "language_info": {
   "codemirror_mode": {
    "name": "ipython",
    "version": 2
   },
   "file_extension": ".py",
   "mimetype": "text/x-python",
   "name": "python",
   "nbconvert_exporter": "python",
   "pygments_lexer": "ipython2",
   "version": "2.7.6"
  }
 },
 "nbformat": 4,
 "nbformat_minor": 5
}
