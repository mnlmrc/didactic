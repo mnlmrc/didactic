{
 "cells": [
  {
   "cell_type": "markdown",
   "metadata": {
    "collapsed": true,
    "jupyter": {
     "outputs_hidden": true
    }
   },
   "source": [
    "# **Representational similarity analysis: a tutorial with rsatoolbox**\n",
    "written for [Diedrichsen Lab](https://www.diedrichsenlab.org) and [Brain and Mind Institute](https://www.uwo.ca/bmi/)"
   ]
  },
  {
   "cell_type": "markdown",
   "metadata": {},
   "source": [
    "This tutorial will walk you through the basic concept to understand representational similarity analysis (RSA) and how to apply it using the rsatoolbox. [Click here](https://rsatoolbox.readthedocs.io/en/stable/) for more documentation about the rsatoolbox. To find out more about how RSA works and to learn how to use the PcmPy toolbox to perform RSA, you can check [this tutorial](https://github.com/mnlmrc/didactic/blob/main/rsa_pcmpy.ipynb)."
   ]
  },
  {
   "cell_type": "code",
   "execution_count": 1,
   "metadata": {},
   "outputs": [],
   "source": [
    "import pickle\n",
    "import pandas as pd\n",
    "import rsatoolbox as rsa\n",
    "import numpy as np\n",
    "import matplotlib.pyplot as plt\n",
    "import warnings\n",
    "warnings.filterwarnings('ignore')"
   ]
  },
  {
   "cell_type": "markdown",
   "metadata": {},
   "source": [
    "Example dataset\n",
    "--\n",
    "Throughout the tutorial, we use example fMRI data from an experiment in which participants responded to tactile stimuli on either the index or ring finger, following a visual cue that indicated the probability of stimulation for each finger. The visual cues were 0%-100% ring-index, 25%-75%, 50%-50%, 75%-25% or 100%-0%. To simplify, we will use condition labels only reporting the index probability, i.e., 0%, 25%, 50%, 75%, 100%. The data were collected in ten blocks. In the first-level GLM, we modelled neural activation $y_i$ in the $ i^{th} $ voxel as a linear combination of 5 regressors of interests, each corresponding to a probability cue:\n",
    "\n",
    "$$ y_i = X \\beta_i + \\epsilon $$\n",
    "\n",
    "The $\\beta$ coefficients from each regressor indicate how much each voxel was activated for each probability cue. The goal of RSA is to understand whether voxels show different **activity patterns** between conditions, regardless of the overall amount of activation. Let's first load the data:"
   ]
  },
  {
   "cell_type": "code",
   "execution_count": 2,
   "metadata": {},
   "outputs": [],
   "source": [
    "f = open('data_demo_smp.p', 'rb')\n",
    "Y, ResMS, residuals, cond_vec, part_vec, cond_names = pickle.load(f)"
   ]
  },
  {
   "cell_type": "markdown",
   "source": [
    "To use the rsatoolbox, we first need to organize or data in a Dataset object. We want to compute the cross-validated [Mahalanobis distance](https://github.com/mnlmrc/didactic/blob/main/rsa_pcmpy.ipynb#Prewhitening-and-Mahalanobis-distance) between pairs of conditions, so before creating the dataset, we will prewhiten our data using the ResMS from the first-level GLM (i.e., univariate prewhitening). The `obs_descriptors` dictionary should contain the field `'conds'` corresponding to a vector of condition labels and the field `'run'` with partition labels (e.g., fMRI runs) to perform cross-validation."
   ],
   "metadata": {
    "collapsed": false
   }
  },
  {
   "cell_type": "code",
   "execution_count": 3,
   "outputs": [],
   "source": [
    "Y_prewhitened = Y / np.sqrt(ResMS)\n",
    "\n",
    "# map cond_vec to meaningful values before including it in the dataset. It will be handy for visualization\n",
    "cond_vec_map = {\n",
    "    0: '0%',\n",
    "    1: '25%',\n",
    "    2: '50%',\n",
    "    3: '75%',\n",
    "    4: '100%'\n",
    "}\n",
    "cond_vec = pd.Series(cond_vec).map(cond_vec_map)\n",
    "\n",
    "dataset = rsa.data.Dataset(\n",
    "        Y_prewhitened,\n",
    "        channel_descriptors={\n",
    "            'channel': np.array(['vox_' + str(x) for x in range(Y_prewhitened.shape[-1])])},\n",
    "        obs_descriptors={'conds': cond_vec,\n",
    "                         'run': part_vec},\n",
    "    )"
   ],
   "metadata": {
    "collapsed": false
   }
  },
  {
   "cell_type": "markdown",
   "source": [
    "We can now use the function `calc_rdm` to compute the distances:"
   ],
   "metadata": {
    "collapsed": false
   }
  },
  {
   "cell_type": "code",
   "execution_count": 4,
   "outputs": [],
   "source": [
    "rdm = rsa.rdm.calc_rdm(dataset, method='crossnobis', descriptor='conds', cv_descriptor='run')\n",
    "\n",
    "# conditions in the rdm object are in alphabetic order, i.e, 0%, 100%, 25%, 50%, 75%. Let's reorder them for better visualization\n",
    "rdm.reorder([0, 2, 3, 4, 1])"
   ],
   "metadata": {
    "collapsed": false
   }
  },
  {
   "cell_type": "markdown",
   "source": [
    "The variable `rdm` contains a representation dissimilarity matrix, i.e., a matrix of squared cross-validated distances between conditions. For more information about RDMs objects and how to manipulate them, see [this documentation](https://rsatoolbox.readthedocs.io/en/stable/operations.html). Representation dissimilarity matrices stored in RDMs object can be directly plotted using the vis package in rsatoolbox:"
   ],
   "metadata": {
    "collapsed": false
   }
  },
  {
   "cell_type": "code",
   "execution_count": 5,
   "outputs": [
    {
     "data": {
      "text/plain": "<Figure size 200x200 with 2 Axes>",
      "image/png": "[encoded data removed]"
     },
     "metadata": {},
     "output_type": "display_data"
    }
   ],
   "source": [
    "fig, ax, _ = rsa.vis.show_rdm(rdm, cmap='viridis', rdm_descriptor='Cross-validated Mahalanobis distance\\n(univariate prewhitening)', pattern_descriptor='conds', show_colorbar='panel')\n",
    "plt.show()"
   ],
   "metadata": {
    "collapsed": false
   }
  },
  {
   "cell_type": "code",
   "execution_count": 5,
   "outputs": [],
   "source": [],
   "metadata": {
    "collapsed": false
   }
  }
 ],
 "metadata": {
  "kernelspec": {
   "display_name": "Python 3 (ipykernel)",
   "language": "python",
   "name": "python3"
  },
  "language_info": {
   "codemirror_mode": {
    "name": "ipython",
    "version": 3
   },
   "file_extension": ".py",
   "mimetype": "text/x-python",
   "name": "python",
   "nbconvert_exporter": "python",
   "pygments_lexer": "ipython3",
   "version": "3.13.0"
  }
 },
 "nbformat": 4,
 "nbformat_minor": 4
}
