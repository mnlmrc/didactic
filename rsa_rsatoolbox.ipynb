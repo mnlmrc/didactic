{
 "cells": [
  {
   "cell_type": "markdown",
   "metadata": {
    "collapsed": true,
    "jupyter": {
     "outputs_hidden": true
    }
   },
   "source": [
    "# **Representational similarity analysis: a tutorial with rsatoolbox**\n",
    "written for [Diedrichsen Lab](https://www.diedrichsenlab.org) and [Brain and Mind Institute](https://www.uwo.ca/bmi/)"
   ]
  },
  {
   "cell_type": "markdown",
   "metadata": {},
   "source": [
    "This tutorial will walk you through the basic concept to understand representational similarity analysis (RSA) and how to apply it using the rsatoolbox. [Click here](https://rsatoolbox.readthedocs.io/en/stable/) for more documentation about the rsatoolbox. To find out how to use the PcmPy toolbox instead, you can check [this tutorial](https://github.com/mnlmrc/didactic/blob/main/rsa_pcmpy.ipynb)."
   ]
  },
  {
   "cell_type": "code",
   "execution_count": 1,
   "metadata": {},
   "outputs": [
    {
     "ename": "ModuleNotFoundError",
     "evalue": "No module named 'rsatoolbox'",
     "output_type": "error",
     "traceback": [
      "\u001B[0;31m---------------------------------------------------------------------------\u001B[0m",
      "\u001B[0;31mModuleNotFoundError\u001B[0m                       Traceback (most recent call last)",
      "Cell \u001B[0;32mIn[1], line 2\u001B[0m\n\u001B[1;32m      1\u001B[0m \u001B[38;5;28;01mimport\u001B[39;00m\u001B[38;5;250m \u001B[39m\u001B[38;5;21;01mpickle\u001B[39;00m\n\u001B[0;32m----> 2\u001B[0m \u001B[38;5;28;01mimport\u001B[39;00m\u001B[38;5;250m \u001B[39m\u001B[38;5;21;01mrsatoolbox\u001B[39;00m\u001B[38;5;250m \u001B[39m\u001B[38;5;28;01mas\u001B[39;00m\u001B[38;5;250m \u001B[39m\u001B[38;5;21;01mrsa\u001B[39;00m\n",
      "\u001B[0;31mModuleNotFoundError\u001B[0m: No module named 'rsatoolbox'"
     ]
    }
   ],
   "source": [
    "import pickle\n",
    "import rsatoolbox as rsa"
   ]
  },
  {
   "cell_type": "markdown",
   "metadata": {},
   "source": [
    "Example dataset\n",
    "--\n",
    "Throughout the tutorial, we use example fMRI data from an experiment in which participants responded to tactile stimuli on either the index or ring finger, following a visual cue that indicated the probability of stimulation for each finger. The visual cues were 0%-100% ring-index, 25%-75%, 50%-50%, 75%-25% or 100%-0%. To simplify, we will use condition labels only reporting the index probability, i.e., 0%, 25%, 50%, 75%, 100%. The data were collected in ten blocks. In the first-level GLM, we modelled neural activation $y_i$ in the $ i^{th} $ voxel as a linear combination of 5 regressors of interests, each corresponding to a probability cue:\n",
    "\n",
    "$$ y_i = X \\beta_i + \\epsilon $$\n",
    "\n",
    "The $\\beta$ coefficients from each regressor indicate how much each voxel was activated for each probability cue. The goal of RSA is to understand whether voxels show different **activity patterns** between conditions, regardless of the overall amount of activation. Let's first load the data:"
   ]
  },
  {
   "cell_type": "code",
   "execution_count": null,
   "metadata": {},
   "outputs": [],
   "source": []
  }
 ],
 "metadata": {
  "kernelspec": {
   "display_name": "Python 3 (ipykernel)",
   "language": "python",
   "name": "python3"
  },
  "language_info": {
   "codemirror_mode": {
    "name": "ipython",
    "version": 3
   },
   "file_extension": ".py",
   "mimetype": "text/x-python",
   "name": "python",
   "nbconvert_exporter": "python",
   "pygments_lexer": "ipython3",
   "version": "3.13.0"
  }
 },
 "nbformat": 4,
 "nbformat_minor": 4
}
